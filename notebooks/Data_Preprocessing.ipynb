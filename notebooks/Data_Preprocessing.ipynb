{
 "cells": [
  {
   "cell_type": "code",
   "execution_count": null,
   "metadata": {},
   "outputs": [],
   "source": [
    "import pandas as pd\n",
    "import numpy as np\n",
    "import matplotlib.pyplot as plt\n",
    "import seaborn as sns\n",
    "from sklearn.model_selection import train_test_split\n",
    "from sklearn.preprocessing import StandardScaler"
   ]
  },
  {
   "cell_type": "code",
   "execution_count": null,
   "metadata": {},
   "outputs": [],
   "source": [
    "df = pd.read_pickle(\"../data/eda_df.pkl\")"
   ]
  },
  {
   "cell_type": "code",
   "execution_count": null,
   "metadata": {},
   "outputs": [],
   "source": [
    "df.head()"
   ]
  },
  {
   "cell_type": "markdown",
   "metadata": {},
   "source": [
    "# Handling Missing values"
   ]
  },
  {
   "cell_type": "code",
   "execution_count": null,
   "metadata": {},
   "outputs": [],
   "source": [
    "# Handling Missing Values @sabinvankathmandu\n",
    "missing_values = df.isnull().sum()\n",
    "\n",
    "print(\"Missing Values:\\n\", missing_values)"
   ]
  },
  {
   "cell_type": "code",
   "execution_count": null,
   "metadata": {},
   "outputs": [],
   "source": [
    "# Dropping rows with missing values @sabinvankathmandu\n",
    "df = df.dropna()\n",
    "# check if rows with missing values are deleted\n",
    "df.isnull().sum()"
   ]
  },
  {
   "cell_type": "markdown",
   "metadata": {},
   "source": [
    "### Removing Outliers (Use IQR methods) "
   ]
  },
  {
   "cell_type": "code",
   "execution_count": null,
   "metadata": {},
   "outputs": [],
   "source": [
    "# using Interquartile Range (IQR) to remove outliers - Chatgpt assisted code here @sabinvankathmandu\n",
    "df.shape\n"
   ]
  },
  {
   "cell_type": "code",
   "execution_count": null,
   "metadata": {},
   "outputs": [],
   "source": [
    "def remove_outliers(df):\n",
    "    Q1 = df.quantile(0.25)  # 25th percentile\n",
    "    Q3 = df.quantile(0.75)  # 75th percentile\n",
    "    IQR = Q3 - Q1           # Interquartile range\n",
    "\n",
    "    # Define outlier threshold\n",
    "    lower_bound = Q1 - 1.5 * IQR\n",
    "    upper_bound = Q3 + 1.5 * IQR\n",
    "\n",
    "    # Remove outliers\n",
    "    df_cleaned = df[~((df < lower_bound) | (df > upper_bound)).any(axis=1)]\n",
    "    return df_cleaned\n",
    "\n",
    "# Apply function\n",
    "df = remove_outliers(df)\n",
    "print(f\"New dataset shape after outlier removal: {df.shape}\")"
   ]
  },
  {
   "cell_type": "markdown",
   "metadata": {},
   "source": [
    "### Check to see if outliers from boxplots @sabinvankathmandu"
   ]
  },
  {
   "cell_type": "code",
   "execution_count": null,
   "metadata": {},
   "outputs": [],
   "source": [
    "# Boxplots for Each Column for outliers detections @sabinvankathmandu\n",
    "\n",
    "# Setting the figure size @sabinvankathmandu\n",
    "plt.figure(figsize=(15, 10))\n",
    "\n",
    "# create a boxplot by looping for each columns @sabinvankathmandu\n",
    "for i, column in enumerate(df.columns, 1):\n",
    "    plt.subplot(4, 4, i)  # adjusting rows & cols as needed (4x4 for 16 features)\n",
    "    sns.boxplot(y=df[column])\n",
    "    plt.title(f\"Boxplot of {column}\")\n",
    "\n",
    "plt.tight_layout()  # layout adujst to prevent overlapping @sabinvankathmandu\n",
    "plt.show()"
   ]
  },
  {
   "cell_type": "markdown",
   "metadata": {},
   "source": [
    "# Normalize / Standardize Numerical Features"
   ]
  },
  {
   "cell_type": "code",
   "execution_count": null,
   "metadata": {},
   "outputs": [],
   "source": [
    "scaler = StandardScaler()\n",
    "# select onlynumerical features excluding target medv variables @sabinvankathmandu\n",
    "\n",
    "features = df.drop(columns=[\"medv\"])\n",
    "target = df[\"medv\"]\n",
    "\n",
    "#standard scaler fitting\n",
    "feature_scaled = scaler.fit_transform(features)\n",
    "\n",
    "# DF scaled\n",
    "df_scaled = pd.DataFrame(feature_scaled, columns=features.columns)\n"
   ]
  },
  {
   "cell_type": "code",
   "execution_count": null,
   "metadata": {},
   "outputs": [],
   "source": [
    "df_scaled"
   ]
  },
  {
   "cell_type": "code",
   "execution_count": null,
   "metadata": {},
   "outputs": [],
   "source": [
    "# appending our target columns @sabinvankathmandu\n",
    "df_scaled[\"medv\"] = target.values"
   ]
  },
  {
   "cell_type": "code",
   "execution_count": null,
   "metadata": {},
   "outputs": [],
   "source": [
    "df_scaled.head(2)"
   ]
  },
  {
   "cell_type": "markdown",
   "metadata": {},
   "source": [
    "# Split into Train and Test data"
   ]
  },
  {
   "cell_type": "code",
   "execution_count": null,
   "metadata": {},
   "outputs": [],
   "source": [
    "# X - feature and y - target vaiable defining @sabinvankathmandu\n",
    "X = df_scaled.drop(columns=['medv'])\n",
    "y = df_scaled['medv']\n",
    "\n",
    "# splitting into 80 - 20 train test data\n",
    "X_train, X_test, y_train, y_test = train_test_split(X, y, test_size=0.2, random_state=42)\n",
    "print(f\"Training set: {X_train.shape}, Test set: {X_test.shape}\")"
   ]
  },
  {
   "cell_type": "markdown",
   "metadata": {},
   "source": [
    "# Showing train and test data"
   ]
  },
  {
   "cell_type": "code",
   "execution_count": null,
   "metadata": {},
   "outputs": [],
   "source": [
    "# train data\n",
    "print(f\"TRAINED DATA:: \\n\", X_train.head(5))\n",
    "\n",
    "# Test data\n",
    "print(f\"\\nTEST DATA:: \\n\", X_test.head(5))\n"
   ]
  },
  {
   "cell_type": "markdown",
   "metadata": {},
   "source": [
    "# Save Processed data to pkl"
   ]
  },
  {
   "cell_type": "code",
   "execution_count": null,
   "metadata": {},
   "outputs": [],
   "source": [
    "# Save Processed data to pkl\n",
    "df_scaled.to_pickle(\"../data/datapreprocessing_df.pkl\")\n",
    "X_train.to_pickle(\"../data/X_train.pkl\")\n",
    "X_test.to_pickle(\"../data/X_test.pkl\")\n",
    "y_train.to_pickle(\"../data/y_train.pkl\")\n",
    "y_test.to_pickle(\"../data/y_test.pkl\")\n"
   ]
  },
  {
   "cell_type": "code",
   "execution_count": null,
   "metadata": {},
   "outputs": [],
   "source": []
  }
 ],
 "metadata": {
  "kernelspec": {
   "display_name": "base",
   "language": "python",
   "name": "python3"
  },
  "language_info": {
   "codemirror_mode": {
    "name": "ipython",
    "version": 3
   },
   "file_extension": ".py",
   "mimetype": "text/x-python",
   "name": "python",
   "nbconvert_exporter": "python",
   "pygments_lexer": "ipython3",
   "version": "3.12.7"
  }
 },
 "nbformat": 4,
 "nbformat_minor": 2
}
