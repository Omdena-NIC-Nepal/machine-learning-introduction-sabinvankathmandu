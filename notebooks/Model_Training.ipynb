{
 "cells": [
  {
   "cell_type": "code",
   "execution_count": null,
   "metadata": {},
   "outputs": [],
   "source": [
    "import pandas as pd\n",
    "import numpy as np\n",
    "import matplotlib.pyplot as plt\n",
    "import seaborn as sns\n",
    "from sklearn.linear_model import LinearRegression, Ridge, Lasso\n",
    "from sklearn.metrics import mean_squared_error, r2_score\n",
    "from sklearn.model_selection import GridSearchCV\n",
    "\n",
    "import joblib"
   ]
  },
  {
   "cell_type": "markdown",
   "metadata": {},
   "source": [
    "# Load Preprocessed data from .pkl files"
   ]
  },
  {
   "cell_type": "code",
   "execution_count": null,
   "metadata": {},
   "outputs": [],
   "source": [
    "# loading thee preprocessed data @sabinvankathmandu\n",
    "X_train = pd.read_pickle(\"../data/X_train.pkl\")\n",
    "X_test = pd.read_pickle(\"../data/X_test.pkl\")\n",
    "y_train = pd.read_pickle(\"../data/y_train.pkl\")\n",
    "y_test = pd.read_pickle(\"../data/y_test.pkl\")\n",
    "\n",
    "print(f\"Training set: {X_train.shape}, Test set: {X_test.shape}\")"
   ]
  },
  {
   "cell_type": "markdown",
   "metadata": {},
   "source": [
    "# Train the linear regression model"
   ]
  },
  {
   "cell_type": "code",
   "execution_count": null,
   "metadata": {},
   "outputs": [],
   "source": [
    "# model iniitalised @sabinvankahtmandu\n",
    "model = LinearRegression()\n",
    "model.fit(X_train, y_train)"
   ]
  },
  {
   "cell_type": "code",
   "execution_count": null,
   "metadata": {},
   "outputs": [],
   "source": [
    "# Print model coefficients @sabinvankahtmandu\n",
    "print(\"Model Coefficients:\", model.coef_)\n",
    "print(\"Intercept:\", model.intercept_)"
   ]
  },
  {
   "cell_type": "markdown",
   "metadata": {},
   "source": [
    "# Evaluate the Model"
   ]
  },
  {
   "cell_type": "code",
   "execution_count": null,
   "metadata": {},
   "outputs": [],
   "source": [
    "# Predictions on training and test data @sabinvankathmandu\n",
    "y_train_pred = model.predict(X_train)\n",
    "y_test_pred = model.predict(X_test)\n",
    "\n",
    "# Calculate metrics @sabinvankathmandu\n",
    "mse_train = mean_squared_error(y_train, y_train_pred)\n",
    "r2_train = r2_score(y_train, y_train_pred)\n",
    "\n",
    "mse_test = mean_squared_error(y_test, y_test_pred)\n",
    "r2_test = r2_score(y_test, y_test_pred)\n",
    "\n",
    "print(f\"Training MSE: {mse_train:.2f}, Training R²: {r2_train:.2f}\")\n",
    "print(f\"Test MSE: {mse_test:.2f}, Test R²: {r2_test:.2f}\")\n"
   ]
  },
  {
   "cell_type": "markdown",
   "metadata": {},
   "source": [
    "# Actual vs Predicted Prices Visualization"
   ]
  },
  {
   "cell_type": "code",
   "execution_count": null,
   "metadata": {},
   "outputs": [],
   "source": [
    "# Creating the actual vs predicted price linear plot @sabinvankathmandu\n",
    "plt.figure(figsize=(8, 6))\n",
    "sns.scatterplot(x=y_test, y=y_test_pred, alpha=0.7)\n",
    "plt.plot([y_test.min(), y_test.max()], [y_test.min(), y_test.max()], \"--r\", lw=2)  # Identity line\n",
    "plt.xlabel(\"Actual Prices\")\n",
    "plt.ylabel(\"Predicted Prices\")\n",
    "plt.title(\"Actual vs Predicted House Prices\")\n",
    "plt.show()\n"
   ]
  },
  {
   "cell_type": "markdown",
   "metadata": {},
   "source": [
    "# Save the trained model"
   ]
  },
  {
   "cell_type": "code",
   "execution_count": null,
   "metadata": {},
   "outputs": [],
   "source": [
    "joblib.dump(model, \"../model/linear_regression_model.pkl\")\n",
    "print(\"Model saved successfully!\")"
   ]
  },
  {
   "cell_type": "markdown",
   "metadata": {},
   "source": [
    "# HyperParameter Tuning"
   ]
  },
  {
   "cell_type": "code",
   "execution_count": null,
   "metadata": {},
   "outputs": [],
   "source": [
    "# Code assisted by Chatgpt\n",
    "# Define range of alpha values to test\n",
    "alpha_values = np.logspace(-4, 2, 50)  # 50 values from 10^(-4) to 10^(2)\n",
    "\n",
    "# Ridge Regression\n",
    "ridge = Ridge()\n",
    "ridge_params = {'alpha': alpha_values}\n",
    "\n",
    "# Lasso Regression\n",
    "lasso = Lasso()\n",
    "lasso_params = {'alpha': alpha_values}\n"
   ]
  },
  {
   "cell_type": "code",
   "execution_count": null,
   "metadata": {},
   "outputs": [],
   "source": [
    "# perfrom grid search for best hyperparameters\n",
    "# Ridge Regression with GridSearchCV\n",
    "ridge_grid = GridSearchCV(ridge, ridge_params, cv=5, scoring='r2', n_jobs=-1)\n",
    "ridge_grid.fit(X_train, y_train)\n",
    "\n",
    "# Lasso Regression with GridSearchCV\n",
    "lasso_grid = GridSearchCV(lasso, lasso_params, cv=5, scoring='r2', n_jobs=-1)\n",
    "lasso_grid.fit(X_train, y_train)\n",
    "\n",
    "# Best alpha values\n",
    "print(f\"Best Alpha for Ridge: {ridge_grid.best_params_['alpha']}\")\n",
    "print(f\"Best Alpha for Lasso: {lasso_grid.best_params_['alpha']}\")\n",
    "\n"
   ]
  },
  {
   "cell_type": "code",
   "execution_count": null,
   "metadata": {},
   "outputs": [],
   "source": [
    "# now training the optimized ridge and lasso models\n",
    "# Ridge with best alpha training\n",
    "ridge_best = Ridge(alpha=ridge_grid.best_params_['alpha'])\n",
    "ridge_best.fit(X_train, y_train)\n",
    "\n",
    "# train lasso with best alpha\n",
    "lasso_best = Lasso(alpha=lasso_grid.best_params_['alpha'])\n",
    "lasso_best.fit(X_train, y_train)\n"
   ]
  },
  {
   "cell_type": "code",
   "execution_count": null,
   "metadata": {},
   "outputs": [],
   "source": [
    "# Compare the model perfromances\n",
    "# Predictions\n",
    "ridge_pred = ridge_best.predict(X_test)\n",
    "lasso_pred = lasso_best.predict(X_test)\n",
    "\n",
    "# Evaluation\n",
    "ridge_r2 = r2_score(y_test, ridge_pred)\n",
    "lasso_r2 = r2_score(y_test, lasso_pred)\n",
    "\n",
    "print(f\"Ridge R²: {ridge_r2:.4f}\")\n",
    "print(f\"Lasso R²: {lasso_r2:.4f}\")"
   ]
  },
  {
   "cell_type": "code",
   "execution_count": null,
   "metadata": {},
   "outputs": [],
   "source": [
    "# Saving the best models Ridge and lasso\n",
    "joblib.dump(ridge_best, \"../model/ridge_model.pkl\")\n",
    "joblib.dump(lasso_best, \"../model/lasso_model.pkl\")\n",
    "\n",
    "print(\"Optimized Ridge & Lasso models saved!\")\n"
   ]
  },
  {
   "cell_type": "code",
   "execution_count": null,
   "metadata": {},
   "outputs": [],
   "source": []
  }
 ],
 "metadata": {
  "kernelspec": {
   "display_name": "base",
   "language": "python",
   "name": "python3"
  },
  "language_info": {
   "codemirror_mode": {
    "name": "ipython",
    "version": 3
   },
   "file_extension": ".py",
   "mimetype": "text/x-python",
   "name": "python",
   "nbconvert_exporter": "python",
   "pygments_lexer": "ipython3",
   "version": "3.12.7"
  }
 },
 "nbformat": 4,
 "nbformat_minor": 2
}
